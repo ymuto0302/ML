{
  "nbformat": 4,
  "nbformat_minor": 0,
  "metadata": {
    "colab": {
      "name": "MachineLearning_1.ipynb",
      "provenance": [],
      "authorship_tag": "ABX9TyPCh3XOcfxZphzxC/dv0uxy",
      "include_colab_link": true
    },
    "kernelspec": {
      "name": "python3",
      "display_name": "Python 3"
    },
    "language_info": {
      "name": "python"
    }
  },
  "cells": [
    {
      "cell_type": "markdown",
      "metadata": {
        "id": "view-in-github",
        "colab_type": "text"
      },
      "source": [
        "<a href=\"https://colab.research.google.com/github/ymuto0302/ML/blob/main/MachineLearning_1.ipynb\" target=\"_parent\"><img src=\"https://colab.research.google.com/assets/colab-badge.svg\" alt=\"Open In Colab\"/></a>"
      ]
    },
    {
      "cell_type": "markdown",
      "source": [
        "# sklearn を用いた分類実験：最初の一歩\n",
        "sklearn (scikit-learn) を用いると，データセットの読み込み／モデルの構築／評価が簡単に行える。\n",
        "\n",
        "目的：\n",
        "- iris データセットを対象として「分類実験の流れ」を把握する。\n",
        "- 分類手法を他のデータセットへ適用し，サンプル数が少ない場合や高次元空間での分類を試みる。"
      ],
      "metadata": {
        "id": "Y-gZaL-Uda4e"
      }
    },
    {
      "cell_type": "markdown",
      "source": [
        "---\n",
        "## iris データセット\n",
        "iris データセットは３種のアヤメ (iris) を分類する問題である。下記のサイトにおいて，iris データセットの特性が説明されている。\n",
        "\n",
        "https://machinelearninghd.com/iris-dataset-uci-machine-learning-repository-project/\n",
        "\n",
        "- サンプル数：150個 (50個／クラス)\n",
        "- 次元数：4次元\n",
        "- クラス：0〜2 の 3クラス\n",
        "\n",
        "sklearn.datasets.load_iris() のマニュアル：  \n",
        "https://scikit-learn.org/stable/modules/generated/sklearn.datasets.load_iris.html#sklearn.datasets.load_iris"
      ],
      "metadata": {
        "id": "cdvCJUNQZmye"
      }
    },
    {
      "cell_type": "markdown",
      "source": [
        "最初に，データセットを読み込む。"
      ],
      "metadata": {
        "id": "waGGkTXFhr-p"
      }
    },
    {
      "cell_type": "code",
      "execution_count": 1,
      "metadata": {
        "id": "5pPEkB90DYBL"
      },
      "outputs": [],
      "source": [
        "# iris データセットの読み込み\n",
        "from sklearn.datasets import load_iris\n",
        "iris = load_iris()"
      ]
    },
    {
      "cell_type": "markdown",
      "source": [
        "データセットの中身を見てみよう。"
      ],
      "metadata": {
        "id": "HUbAcowfDoA8"
      }
    },
    {
      "cell_type": "code",
      "source": [
        "# iris データセットの説明\n",
        "print(iris.DESCR)"
      ],
      "metadata": {
        "colab": {
          "base_uri": "https://localhost:8080/",
          "height": 0
        },
        "id": "qdSINId-Di10",
        "outputId": "6342b324-7b5a-49b0-dba4-1266f1a20c71"
      },
      "execution_count": 3,
      "outputs": [
        {
          "output_type": "stream",
          "name": "stdout",
          "text": [
            ".. _iris_dataset:\n",
            "\n",
            "Iris plants dataset\n",
            "--------------------\n",
            "\n",
            "**Data Set Characteristics:**\n",
            "\n",
            "    :Number of Instances: 150 (50 in each of three classes)\n",
            "    :Number of Attributes: 4 numeric, predictive attributes and the class\n",
            "    :Attribute Information:\n",
            "        - sepal length in cm\n",
            "        - sepal width in cm\n",
            "        - petal length in cm\n",
            "        - petal width in cm\n",
            "        - class:\n",
            "                - Iris-Setosa\n",
            "                - Iris-Versicolour\n",
            "                - Iris-Virginica\n",
            "                \n",
            "    :Summary Statistics:\n",
            "\n",
            "    ============== ==== ==== ======= ===== ====================\n",
            "                    Min  Max   Mean    SD   Class Correlation\n",
            "    ============== ==== ==== ======= ===== ====================\n",
            "    sepal length:   4.3  7.9   5.84   0.83    0.7826\n",
            "    sepal width:    2.0  4.4   3.05   0.43   -0.4194\n",
            "    petal length:   1.0  6.9   3.76   1.76    0.9490  (high!)\n",
            "    petal width:    0.1  2.5   1.20   0.76    0.9565  (high!)\n",
            "    ============== ==== ==== ======= ===== ====================\n",
            "\n",
            "    :Missing Attribute Values: None\n",
            "    :Class Distribution: 33.3% for each of 3 classes.\n",
            "    :Creator: R.A. Fisher\n",
            "    :Donor: Michael Marshall (MARSHALL%PLU@io.arc.nasa.gov)\n",
            "    :Date: July, 1988\n",
            "\n",
            "The famous Iris database, first used by Sir R.A. Fisher. The dataset is taken\n",
            "from Fisher's paper. Note that it's the same as in R, but not as in the UCI\n",
            "Machine Learning Repository, which has two wrong data points.\n",
            "\n",
            "This is perhaps the best known database to be found in the\n",
            "pattern recognition literature.  Fisher's paper is a classic in the field and\n",
            "is referenced frequently to this day.  (See Duda & Hart, for example.)  The\n",
            "data set contains 3 classes of 50 instances each, where each class refers to a\n",
            "type of iris plant.  One class is linearly separable from the other 2; the\n",
            "latter are NOT linearly separable from each other.\n",
            "\n",
            ".. topic:: References\n",
            "\n",
            "   - Fisher, R.A. \"The use of multiple measurements in taxonomic problems\"\n",
            "     Annual Eugenics, 7, Part II, 179-188 (1936); also in \"Contributions to\n",
            "     Mathematical Statistics\" (John Wiley, NY, 1950).\n",
            "   - Duda, R.O., & Hart, P.E. (1973) Pattern Classification and Scene Analysis.\n",
            "     (Q327.D83) John Wiley & Sons.  ISBN 0-471-22361-1.  See page 218.\n",
            "   - Dasarathy, B.V. (1980) \"Nosing Around the Neighborhood: A New System\n",
            "     Structure and Classification Rule for Recognition in Partially Exposed\n",
            "     Environments\".  IEEE Transactions on Pattern Analysis and Machine\n",
            "     Intelligence, Vol. PAMI-2, No. 1, 67-71.\n",
            "   - Gates, G.W. (1972) \"The Reduced Nearest Neighbor Rule\".  IEEE Transactions\n",
            "     on Information Theory, May 1972, 431-433.\n",
            "   - See also: 1988 MLC Proceedings, 54-64.  Cheeseman et al\"s AUTOCLASS II\n",
            "     conceptual clustering system finds 3 classes in the data.\n",
            "   - Many, many more ...\n"
          ]
        }
      ]
    },
    {
      "cell_type": "markdown",
      "source": [
        "データおよびターゲットの先頭５個を見てみると，データは４次元，ターゲットには数値が入っていることが分かる。"
      ],
      "metadata": {
        "id": "xcgNYdwlbAEw"
      }
    },
    {
      "cell_type": "code",
      "source": [
        "# データの先頭\n",
        "iris.data[:5]"
      ],
      "metadata": {
        "colab": {
          "base_uri": "https://localhost:8080/",
          "height": 0
        },
        "id": "OrvjSs0zajK3",
        "outputId": "105e0815-142d-45f9-dda5-c8e8e89d37ad"
      },
      "execution_count": 36,
      "outputs": [
        {
          "output_type": "execute_result",
          "data": {
            "text/plain": [
              "array([[5.1, 3.5, 1.4, 0.2],\n",
              "       [4.9, 3. , 1.4, 0.2],\n",
              "       [4.7, 3.2, 1.3, 0.2],\n",
              "       [4.6, 3.1, 1.5, 0.2],\n",
              "       [5. , 3.6, 1.4, 0.2]])"
            ]
          },
          "metadata": {},
          "execution_count": 36
        }
      ]
    },
    {
      "cell_type": "code",
      "source": [
        "# データの各次元の意味\n",
        "iris.feature_names"
      ],
      "metadata": {
        "colab": {
          "base_uri": "https://localhost:8080/",
          "height": 0
        },
        "id": "wAA9ZxyJbVPm",
        "outputId": "1e51cdce-904b-4e6a-93da-62f6dc55d125"
      },
      "execution_count": 40,
      "outputs": [
        {
          "output_type": "execute_result",
          "data": {
            "text/plain": [
              "['sepal length (cm)',\n",
              " 'sepal width (cm)',\n",
              " 'petal length (cm)',\n",
              " 'petal width (cm)']"
            ]
          },
          "metadata": {},
          "execution_count": 40
        }
      ]
    },
    {
      "cell_type": "code",
      "source": [
        "# 各サンプルのクラス番号\n",
        "iris.target"
      ],
      "metadata": {
        "colab": {
          "base_uri": "https://localhost:8080/",
          "height": 0
        },
        "id": "VxK6VJSPaohL",
        "outputId": "307666de-3c62-40a2-d858-cf271d9f2e7e"
      },
      "execution_count": 37,
      "outputs": [
        {
          "output_type": "execute_result",
          "data": {
            "text/plain": [
              "array([0, 0, 0, 0, 0, 0, 0, 0, 0, 0, 0, 0, 0, 0, 0, 0, 0, 0, 0, 0, 0, 0,\n",
              "       0, 0, 0, 0, 0, 0, 0, 0, 0, 0, 0, 0, 0, 0, 0, 0, 0, 0, 0, 0, 0, 0,\n",
              "       0, 0, 0, 0, 0, 0, 1, 1, 1, 1, 1, 1, 1, 1, 1, 1, 1, 1, 1, 1, 1, 1,\n",
              "       1, 1, 1, 1, 1, 1, 1, 1, 1, 1, 1, 1, 1, 1, 1, 1, 1, 1, 1, 1, 1, 1,\n",
              "       1, 1, 1, 1, 1, 1, 1, 1, 1, 1, 1, 1, 2, 2, 2, 2, 2, 2, 2, 2, 2, 2,\n",
              "       2, 2, 2, 2, 2, 2, 2, 2, 2, 2, 2, 2, 2, 2, 2, 2, 2, 2, 2, 2, 2, 2,\n",
              "       2, 2, 2, 2, 2, 2, 2, 2, 2, 2, 2, 2, 2, 2, 2, 2, 2, 2])"
            ]
          },
          "metadata": {},
          "execution_count": 37
        }
      ]
    },
    {
      "cell_type": "code",
      "source": [
        "# クラス番号の意味\n",
        "iris.target_names"
      ],
      "metadata": {
        "colab": {
          "base_uri": "https://localhost:8080/",
          "height": 0
        },
        "id": "5Lzg4WPIayRi",
        "outputId": "da6acc29-e620-473d-829b-b5b1794e329a"
      },
      "execution_count": 38,
      "outputs": [
        {
          "output_type": "execute_result",
          "data": {
            "text/plain": [
              "array(['setosa', 'versicolor', 'virginica'], dtype='<U10')"
            ]
          },
          "metadata": {},
          "execution_count": 38
        }
      ]
    },
    {
      "cell_type": "code",
      "source": [
        "# その他の諸元\n",
        "print(\"データの data type:{}\".format(type(iris.data)))\n",
        "print(\"ターゲットの data type:{}\".format(type(iris.target)))\n",
        "print(\"データの次元数:{}\".format(iris.data.shape))\n",
        "print(\"ターゲットの次元数:{}\".format(iris.target.shape))"
      ],
      "metadata": {
        "colab": {
          "base_uri": "https://localhost:8080/",
          "height": 0
        },
        "id": "h5ODImPqDxRK",
        "outputId": "69be7e4b-6aad-445b-e9ce-04e305a09a2a"
      },
      "execution_count": 4,
      "outputs": [
        {
          "output_type": "stream",
          "name": "stdout",
          "text": [
            "データの data type:<class 'numpy.ndarray'>\n",
            "ターゲットの data type:<class 'numpy.ndarray'>\n",
            "データの次元数:(150, 4)\n",
            "ターゲットの次元数:(150,)\n"
          ]
        }
      ]
    },
    {
      "cell_type": "markdown",
      "source": [
        "(参考) データ，ターゲットともに numpy 配列である。"
      ],
      "metadata": {
        "id": "39JYxJuVErk1"
      }
    },
    {
      "cell_type": "code",
      "source": [
        "# (参考) サンプルのデータとクラス番号を並べて表示してみる\n",
        "for data , target in zip(iris.data[:5], iris.target[:5]):\n",
        "    print(data, target)"
      ],
      "metadata": {
        "colab": {
          "base_uri": "https://localhost:8080/",
          "height": 0
        },
        "id": "ZGqqXAJdErTE",
        "outputId": "1e548624-87d0-4836-fc88-ce8de92f36a2"
      },
      "execution_count": 5,
      "outputs": [
        {
          "output_type": "stream",
          "name": "stdout",
          "text": [
            "[5.1 3.5 1.4 0.2] 0\n",
            "[4.9 3.  1.4 0.2] 0\n",
            "[4.7 3.2 1.3 0.2] 0\n",
            "[4.6 3.1 1.5 0.2] 0\n",
            "[5.  3.6 1.4 0.2] 0\n"
          ]
        }
      ]
    },
    {
      "cell_type": "markdown",
      "source": [
        "---\n",
        "## 分類実験\n",
        "\n",
        "### データを学習用とテスト用に分割\n",
        "各クラスのバランスを取りながら分割するには `sklearn.model_section.train_test_split()` を用いる。\n",
        "\n",
        "`sklearn.model_section.train_test_split` のマニュアル：  \n",
        "https://scikit-learn.org/stable/modules/generated/sklearn.model_selection.train_test_split.html"
      ],
      "metadata": {
        "id": "TKgEqQ3dQpzO"
      }
    },
    {
      "cell_type": "code",
      "source": [
        "from sklearn.model_selection import train_test_split\n",
        "\n",
        "# 学習:テスト=7:3 の比率に分割\n",
        "X_train, X_test, y_train, y_test = train_test_split(iris.data, iris.target, test_size=0.3)"
      ],
      "metadata": {
        "id": "q9xqlIKxFyiV"
      },
      "execution_count": 12,
      "outputs": []
    },
    {
      "cell_type": "markdown",
      "source": [
        "- `X_train`, `X_test` に４次元データが入る。\n",
        "- `y_train`, `y_test` に１次元のラベルが入る。\n",
        "\n",
        "`X_train`, `X_test` のサイズ(shape)を確認すると，学習用に 105サンプル，テスト用に 45サンプルが振り分けられていることが分かる。  \n",
        "また，`y_train`, `y_test` を確認すると，クラス 0, 1, 2 が等分に割り当てられている。"
      ],
      "metadata": {
        "id": "a8F2Gg_fSbAy"
      }
    },
    {
      "cell_type": "code",
      "source": [
        "print(X_train.shape, X_test.shape)"
      ],
      "metadata": {
        "colab": {
          "base_uri": "https://localhost:8080/",
          "height": 0
        },
        "id": "kUhgkcGDRYZg",
        "outputId": "e9416f7d-5cdc-44fa-a174-ad212bc590ee"
      },
      "execution_count": 14,
      "outputs": [
        {
          "output_type": "stream",
          "name": "stdout",
          "text": [
            "(105, 4) (45, 4)\n"
          ]
        }
      ]
    },
    {
      "cell_type": "code",
      "source": [
        "print(y_train)"
      ],
      "metadata": {
        "colab": {
          "base_uri": "https://localhost:8080/",
          "height": 0
        },
        "id": "tsKXJz4xS7P4",
        "outputId": "0d296504-c90e-438d-bb96-655799f967d9"
      },
      "execution_count": 17,
      "outputs": [
        {
          "output_type": "stream",
          "name": "stdout",
          "text": [
            "[2 2 2 1 1 1 2 1 2 0 0 0 0 2 1 0 2 1 1 1 1 2 2 0 2 2 0 1 1 2 1 2 2 1 2 2 1\n",
            " 2 0 1 2 0 0 2 1 0 2 1 0 0 0 0 0 1 2 2 2 2 0 2 0 1 2 1 2 0 0 0 2 2 2 1 1 0\n",
            " 0 2 0 1 1 0 2 2 0 1 2 0 1 2 2 0 1 0 2 0 0 0 0 2 1 1 0 2 1 1 1]\n"
          ]
        }
      ]
    },
    {
      "cell_type": "code",
      "source": [
        "print(y_test)"
      ],
      "metadata": {
        "colab": {
          "base_uri": "https://localhost:8080/",
          "height": 0
        },
        "id": "R1ZhYVKDS9vC",
        "outputId": "0959e906-67dc-4c19-e6e4-9caa78ae1e14"
      },
      "execution_count": 18,
      "outputs": [
        {
          "output_type": "stream",
          "name": "stdout",
          "text": [
            "[2 0 1 1 2 1 2 1 1 2 0 0 1 0 1 1 1 2 0 1 0 0 0 2 0 0 2 0 2 0 0 1 1 1 2 0 2\n",
            " 1 2 0 1 1 1 0 1]\n"
          ]
        }
      ]
    },
    {
      "cell_type": "markdown",
      "source": [
        "### モデルの学習と分類実験\n",
        "分類器として SVC (Support Vector Classification; SVM (Support Vector Machine) の分類バージョン) を利用する。\n",
        "\n",
        "(参考) SVM は回帰にも利用可能であり，この時，SVR (Support Vector Regression) と呼ばれる。\n",
        "\n",
        "sklearn におけるモデルの学習とテストは極めて簡単である。\n",
        "1. `モデル.fit()` ・・・モデルの学習\n",
        "1. `モデル.prediction()` ・・・モデルによる分類\n",
        "1. 正解率などのメトリックを用いたモデルの評価\n"
      ],
      "metadata": {
        "id": "4yjDIKWNTOdA"
      }
    },
    {
      "cell_type": "code",
      "source": [
        "from sklearn.svm import SVC\n",
        "\n",
        "# モデルの学習と評価\n",
        "model = SVC(kernel='rbf') # モデルの定義\n",
        "model.fit(X_train, y_train) # モデルの学習\n",
        "pred = model.predict(X_test) # モデルの評価（分類）\n",
        "print(pred)"
      ],
      "metadata": {
        "colab": {
          "base_uri": "https://localhost:8080/",
          "height": 0
        },
        "id": "40fMkSZERcP3",
        "outputId": "24e76695-cb88-40a6-ab02-083e66d1caeb"
      },
      "execution_count": 41,
      "outputs": [
        {
          "output_type": "stream",
          "name": "stdout",
          "text": [
            "[2 0 2 1 2 1 2 1 1 2 0 0 1 0 1 1 1 2 0 1 0 0 0 2 0 0 2 0 2 0 0 1 1 1 2 0 2\n",
            " 1 2 0 1 1 1 0 1]\n"
          ]
        }
      ]
    },
    {
      "cell_type": "markdown",
      "source": [
        "分類結果を評価するには `sklearn.metrics` を用いる。"
      ],
      "metadata": {
        "id": "Zrdi41NJUNgK"
      }
    },
    {
      "cell_type": "code",
      "source": [
        "# 正解率\n",
        "from sklearn.metrics import accuracy_score\n",
        "pred = model.predict(X_test)\n",
        "print(\"accuracy: {}\".format(accuracy_score(y_test, pred)))\n",
        "\n",
        "# confusion matrix\n",
        "from sklearn.metrics import confusion_matrix\n",
        "print(\"\\n confusion matrix\")\n",
        "print(confusion_matrix(y_test, pred))"
      ],
      "metadata": {
        "colab": {
          "base_uri": "https://localhost:8080/",
          "height": 0
        },
        "id": "Mmmy69G7SABD",
        "outputId": "b0db0e2f-e74f-4bcb-8f0b-b2ab21056686"
      },
      "execution_count": 25,
      "outputs": [
        {
          "output_type": "stream",
          "name": "stdout",
          "text": [
            "accuracy: 0.9777777777777777\n",
            "\n",
            " confusion matrix\n",
            "[[16  0  0]\n",
            " [ 0 17  1]\n",
            " [ 0  0 11]]\n",
            "              precision    recall  f1-score   support\n",
            "\n",
            "           0       1.00      1.00      1.00        16\n",
            "           1       1.00      0.94      0.97        18\n",
            "           2       0.92      1.00      0.96        11\n",
            "\n",
            "    accuracy                           0.98        45\n",
            "   macro avg       0.97      0.98      0.98        45\n",
            "weighted avg       0.98      0.98      0.98        45\n",
            "\n"
          ]
        }
      ]
    },
    {
      "cell_type": "code",
      "source": [
        "'''\n",
        "データセットの分割／モデル定義・学習・分類／分類結果の分析をまとめたコード\n",
        "'''\n",
        "from sklearn.model_selection import train_test_split\n",
        "from sklearn.svm import SVC\n",
        "from sklearn.metrics import accuracy_score\n",
        "from sklearn.metrics import confusion_matrix\n",
        "\n",
        "# iris データセットの読み込み\n",
        "from sklearn.datasets import load_iris\n",
        "iris = load_iris()\n",
        "\n",
        "# 学習:テスト=7:3 の比率に分割\n",
        "X_train, X_test, y_train, y_test = train_test_split(iris.data, iris.target, test_size=0.3)\n",
        "\n",
        "# モデルの学習と評価\n",
        "model = SVC(kernel='rbf') # モデルの定義\n",
        "model.fit(X_train, y_train) # モデルの学習\n",
        "pred = model.predict(X_test) # モデルの評価（分類）\n",
        "\n",
        "# 正解率\n",
        "print(\"accuracy: {}\".format(accuracy_score(y_test, pred)))\n",
        "\n",
        "# confusion matrix\n",
        "print(\"\\n confusion matrix\")\n",
        "print(confusion_matrix(y_test, pred))"
      ],
      "metadata": {
        "colab": {
          "base_uri": "https://localhost:8080/",
          "height": 0
        },
        "id": "_f18cJ0aT_q_",
        "outputId": "b76286f9-5454-4084-c9d5-5a3d0af1e215"
      },
      "execution_count": 44,
      "outputs": [
        {
          "output_type": "stream",
          "name": "stdout",
          "text": [
            "accuracy: 0.9111111111111111\n",
            "\n",
            " confusion matrix\n",
            "[[10  0  0]\n",
            " [ 0 20  3]\n",
            " [ 0  1 11]]\n"
          ]
        }
      ]
    },
    {
      "cell_type": "markdown",
      "source": [
        "---\n",
        "# 他のデータセットを用いた分類実験\n",
        "次の wine dataset / digits dataset を対象に分類実験をやってみよう。\n",
        "\n",
        "## wine dataset\n",
        "sklearn.datasets.load_wine()\n",
        "- サンプル数：178個\n",
        "- 次元数：13次元\n",
        "- クラス：0〜2 の 3クラス\n",
        "\n",
        "## digits dataset\n",
        "sklearn.datasets.load_digits()\n",
        "- サンプル数：1797個\n",
        "- 次元数：64次元\n",
        "- クラス：0〜9 の 10クラス\n",
        "\n",
        "(参考)\n",
        "- sklearn.datasets.load_wine() のマニュアル：   \n",
        "https://scikit-learn.org/stable/modules/generated/sklearn.datasets.load_wine.html#sklearn.datasets.load_wine\n",
        "- sklearn.datasets.load_digits() のマニュアル：   \n",
        "https://scikit-learn.org/stable/modules/generated/sklearn.datasets.load_digits.html#sklearn.datasets.load_digits\n",
        "\n"
      ],
      "metadata": {
        "id": "hbc41iZac8Xq"
      }
    },
    {
      "cell_type": "code",
      "source": [
        ""
      ],
      "metadata": {
        "id": "O6hhO73rmr0Z"
      },
      "execution_count": null,
      "outputs": []
    }
  ]
}