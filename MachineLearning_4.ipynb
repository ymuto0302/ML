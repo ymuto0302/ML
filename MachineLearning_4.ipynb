{
  "nbformat": 4,
  "nbformat_minor": 0,
  "metadata": {
    "colab": {
      "name": "MachineLearning_4.ipynb",
      "provenance": [],
      "collapsed_sections": [],
      "authorship_tag": "ABX9TyNisJy4VQD4GZ/SYrUzpRsX",
      "include_colab_link": true
    },
    "kernelspec": {
      "name": "python3",
      "display_name": "Python 3"
    },
    "language_info": {
      "name": "python"
    }
  },
  "cells": [
    {
      "cell_type": "markdown",
      "metadata": {
        "id": "view-in-github",
        "colab_type": "text"
      },
      "source": [
        "<a href=\"https://colab.research.google.com/github/ymuto0302/ML/blob/main/MachineLearning_4.ipynb\" target=\"_parent\"><img src=\"https://colab.research.google.com/assets/colab-badge.svg\" alt=\"Open In Colab\"/></a>"
      ]
    },
    {
      "cell_type": "markdown",
      "source": [
        "# sklearn を用いた分類実験：cross validation\n",
        "データセットからランダム，かつ独立に学習データ，テストデータを切り出した結果，試行毎に\n",
        "- 学習データ，テストデータの中身が異なる\n",
        "- その結果，正解率が異なる。\n",
        "\n",
        "この問題を解消する手法が cross validation (交差検証) である。\n",
        "\n",
        "目的：\n",
        "- cross validation の必要性を理解する。\n",
        "- モデル間の比較を行う場合，検定を用いた定量的な評価が必要であることを知る。\n",
        "\n",
        "sklearn における cross validation の説明：  \n",
        "https://scikit-learn.org/stable/modules/cross_validation.html"
      ],
      "metadata": {
        "id": "Y-gZaL-Uda4e"
      }
    },
    {
      "cell_type": "markdown",
      "source": [
        "---\n",
        "## 対象：wine データセット\n",
        "- サンプル数：178個\n",
        "- 次元数：13次元\n",
        "- クラス：0〜2 の 3クラス\n",
        "\n",
        "sklearn.datasets.load_wine() のマニュアル：  \n",
        "https://scikit-learn.org/stable/modules/generated/sklearn.datasets.load_wine.html"
      ],
      "metadata": {
        "id": "cdvCJUNQZmye"
      }
    },
    {
      "cell_type": "markdown",
      "source": [
        "---\n",
        "## SVC を分類器として cross validation を試す\n"
      ],
      "metadata": {
        "id": "waGGkTXFhr-p"
      }
    },
    {
      "cell_type": "code",
      "execution_count": 3,
      "metadata": {
        "id": "5pPEkB90DYBL",
        "colab": {
          "base_uri": "https://localhost:8080/"
        },
        "outputId": "5cad9a70-eb3b-4ec5-eac8-90adb83b2a79"
      },
      "outputs": [
        {
          "output_type": "stream",
          "name": "stdout",
          "text": [
            "scores: [0.63888889 0.61111111 0.63888889 0.68571429 0.74285714]\n",
            "accuracy: mean=0.6634920634920635, standard deviation=0.04636170738133653\n"
          ]
        }
      ],
      "source": [
        "# wine データセットの読み込み\n",
        "from sklearn.datasets import load_wine\n",
        "dataset = load_wine()\n",
        "\n",
        "# 全データに別名をつける\n",
        "X = dataset.data\n",
        "y = dataset.target\n",
        "\n",
        "# Support Vector Classification (kernel: rbf)\n",
        "from sklearn.svm import SVC\n",
        "from sklearn.model_selection import cross_val_score\n",
        "\n",
        "# モデルの定義\n",
        "model = SVC(kernel='rbf') # モデルの定義\n",
        "\n",
        "# 5-fold Cross Validation による正解率\n",
        "scores = cross_val_score(model, X, y, scoring='accuracy', cv=5)\n",
        "print(\"scores: {}\".format(scores))\n",
        "\n",
        "# ５個のスコアから平均と標準偏差を求める\n",
        "import numpy as np\n",
        "print(\"accuracy: mean={}, standard deviation={}\".format(np.mean(scores), np.std(scores)))"
      ]
    },
    {
      "cell_type": "markdown",
      "source": [
        "上記で，平均(mean)と標準偏差(standard deviation)を求める目的は何か？\n",
        "\n",
        "答えは，次のとおり：\n",
        "- 分類器のもつ本来の性能（正解率）を評価すること\n",
        "- 分類器の学習がどの程度，データに依存するかを知ること\n",
        "- 複数の分類器を比較する際，性能に差があるかを**大まかに**判断すること\n",
        "\n",
        "(注意) ２つの分類器(例えば SVC と Random Forest)の分類性能を比較したい場合，厳密には\n",
        "平均値の差の検定(2標本のｔ検定；２つの分布で分散が異なる場合)を用いる。\n",
        "\n",
        "(参考)  \n",
        "http://www.aoni.waseda.jp/abek/document/t-test.html#:~:text=%E6%A8%99%E6%9C%AC%E3%81%8B%E3%82%89%E5%BE%97%E3%82%89%E3%82%8C%E3%81%9F,%E3%81%A6%E3%82%88%E3%81%84%E3%81%8B%EF%BC%8C%E3%81%A8%E3%81%84%E3%81%86%E6%A4%9C%E5%AE%9A%EF%BC%8E\n"
      ],
      "metadata": {
        "id": "NekJFce1MYsH"
      }
    },
    {
      "cell_type": "markdown",
      "source": [
        "---\n",
        "## 複数の分類器で cross validation を行い，結果を可視化する"
      ],
      "metadata": {
        "id": "eIO3DbXdUtwF"
      }
    },
    {
      "cell_type": "code",
      "source": [
        "'''\n",
        "iris dataset に対する分類性能の比較\n",
        "'''\n",
        "from sklearn.svm import SVC\n",
        "from sklearn.tree import DecisionTreeClassifier\n",
        "from sklearn.neighbors import KNeighborsClassifier\n",
        "from sklearn.ensemble import RandomForestClassifier\n",
        "from sklearn.naive_bayes import GaussianNB\n",
        "from sklearn.linear_model import LogisticRegression\n",
        "from sklearn.neural_network import MLPClassifier\n",
        "from sklearn.model_selection import train_test_split\n",
        "\n",
        "# wine データセットの読み込み\n",
        "from sklearn.datasets import load_wine\n",
        "dataset = load_wine()\n",
        "\n",
        "X = dataset.data\n",
        "y = dataset.target\n",
        "\n",
        "# モデルのリスト化\n",
        "# リスト生成にあたり，(モデル名, モデルのコンストラクタ) というタプル形式で与えている。\n",
        "# → 実行結果を評価する際，楽になるように。\n",
        "models = []\n",
        "models.append((\"SVC (kerne:rbf)\", SVC(kernel='rbf')))\n",
        "models.append((\"SVC (kernel:linear)\", SVC(kernel='linear')))\n",
        "models.append((\"DecisionTree\", DecisionTreeClassifier()))\n",
        "models.append((\"KNeighbors\", KNeighborsClassifier()))\n",
        "models.append((\"RandomForest\", RandomForestClassifier()))\n",
        "models.append((\"GaussianNB\", GaussianNB()))\n",
        "# models.append((\"LogisticRegression\", LogisticRegression()))\n",
        "models.append((\"Multi-Layer Perceptron\", MLPClassifier()))\n",
        "\n",
        "classifier_names = [] # モデル名を保存するためのリスト\n",
        "means = [] # 正解率の平均を保存するためのリスト\n",
        "errors = [] # 正解率の標準偏差を保存するためのリスト\n",
        "scores_list = []\n",
        "\n",
        "# 個々のモデルで分類する\n",
        "import numpy as np\n",
        "from sklearn.model_selection import cross_val_score\n",
        "for model_name, model in models:\n",
        "    # 5-fold CV による正解率\n",
        "    scores = cross_val_score(model, X, y, scoring='accuracy', cv=5)\n",
        "    # print(scores)\n",
        "\n",
        "    acc_mean = np.mean(scores)\n",
        "    acc_std = np.std(scores)\n",
        "    print(\"{}: mean={}, std={}\".format(model_name, acc_mean, acc_std))\n",
        "\n",
        "    # 分類結果（正解率）の保存\n",
        "    classifier_names.append(model_name)\n",
        "    means.append(acc_mean)\n",
        "    errors.append(acc_std)\n",
        "    scores_list.append(scores)\n",
        "\n",
        "# 可視化\n",
        "import matplotlib.pyplot as plt\n",
        "plt.barh(classifier_names, means, xerr=errors, ecolor='red') # 横向き棒グラフ (horizontal bar char)\n",
        "plt.gca().invert_yaxis() # y軸を逆向きにする\n",
        "\n",
        "'''\n",
        "# (参考) https://matplotlib.org/stable/api/_as_gen/matplotlib.pyplot.boxplot.html\n",
        "plt.boxplot(scores_list, labels=classifier_names, showmeans=True, vert=False)\n",
        "plt.gca().invert_yaxis() # y軸を逆向きにする\n",
        "'''\n",
        "\n",
        "plt.show()"
      ],
      "metadata": {
        "colab": {
          "base_uri": "https://localhost:8080/",
          "height": 472
        },
        "id": "Epfh3CnpOmYr",
        "outputId": "66b099b5-0289-4d95-fa9b-795afaa21d56"
      },
      "execution_count": 4,
      "outputs": [
        {
          "output_type": "stream",
          "name": "stdout",
          "text": [
            "SVC (kerne:rbf): mean=0.6634920634920635, std=0.04636170738133653\n",
            "SVC (kernel:linear): mean=0.961111111111111, std=0.041573970964154924\n",
            "DecisionTree: mean=0.882063492063492, std=0.05936932333527122\n",
            "KNeighbors: mean=0.6912698412698413, std=0.04877951071049148\n",
            "RandomForest: mean=0.9722222222222221, std=0.024845199749997673\n",
            "GaussianNB: mean=0.9663492063492063, std=0.02113317858457236\n"
          ]
        },
        {
          "output_type": "stream",
          "name": "stderr",
          "text": [
            "/usr/local/lib/python3.7/dist-packages/sklearn/neural_network/_multilayer_perceptron.py:696: ConvergenceWarning: Stochastic Optimizer: Maximum iterations (200) reached and the optimization hasn't converged yet.\n",
            "  ConvergenceWarning,\n",
            "/usr/local/lib/python3.7/dist-packages/sklearn/neural_network/_multilayer_perceptron.py:696: ConvergenceWarning: Stochastic Optimizer: Maximum iterations (200) reached and the optimization hasn't converged yet.\n",
            "  ConvergenceWarning,\n"
          ]
        },
        {
          "output_type": "stream",
          "name": "stdout",
          "text": [
            "Multi-Layer Perceptron: mean=0.6144444444444443, std=0.24393288049987127\n"
          ]
        },
        {
          "output_type": "display_data",
          "data": {
            "text/plain": [
              "<Figure size 432x288 with 1 Axes>"
            ],
            "image/png": "[encoded data removed]"
          },
          "metadata": {
            "needs_background": "light"
          }
        }
      ]
    },
    {
      "cell_type": "markdown",
      "source": [
        "---\n",
        "(メモ) cross_val_score() の scoring に指定できる値 (主な値のみ)：\n",
        "- 'accuracy' : 正解率 (metrics.accuracy_score)\n",
        "- 'precision' : 精度 (metrics.precision_score suffixes apply as with 'f1')\n",
        "- 'recall' : 再現率 (metrics.recall_score suffixes apply as with 'f1')\n",
        "- 'f1' : F1 スコア (metrics.f1_score for binary targets)\n",
        "- 'roc_auc' : Area Under the Receiver Operating Characteristic Curve (metrics.roc_auc_score)\n",
        "- 'f1_micro' : マイクロ F1 スコア (metrics.f1_score micro-averaged)\n",
        "- 'f1_macro' : マクロ F1 スコア (metrics.f1_score macro-averaged)"
      ],
      "metadata": {
        "id": "R_Yll1yBMk6o"
      }
    },
    {
      "cell_type": "markdown",
      "source": [
        "---\n",
        "## Wilcoxon signed-rank test を用いて，分類器の性能を比較する"
      ],
      "metadata": {
        "id": "xL0vr1qcVHoE"
      }
    },
    {
      "cell_type": "code",
      "source": [
        "'''\n",
        "wine dataset に対する分類性能の比較\n",
        "'''\n",
        "from sklearn.svm import SVC\n",
        "from sklearn.tree import DecisionTreeClassifier\n",
        "from sklearn.neighbors import KNeighborsClassifier\n",
        "from sklearn.ensemble import RandomForestClassifier\n",
        "from sklearn.naive_bayes import GaussianNB\n",
        "from sklearn.linear_model import LogisticRegression\n",
        "from sklearn.neural_network import MLPClassifier\n",
        "from sklearn.model_selection import train_test_split\n",
        "\n",
        "# wine データセットの読み込み\n",
        "from sklearn.datasets import load_wine\n",
        "dataset = load_wine()\n",
        "\n",
        "X = dataset.data\n",
        "y = dataset.target\n",
        "\n",
        "# モデルのリスト化\n",
        "# リスト生成にあたり，(モデル名, モデルのコンストラクタ) というタプル形式で与えている。\n",
        "# → 実行結果を評価する際，楽になるように。\n",
        "models = []\n",
        "models.append((\"SVC (kerne:rbf)\", SVC(kernel='rbf')))\n",
        "models.append((\"SVC (kernel:linear)\", SVC(kernel='linear')))\n",
        "models.append((\"DecisionTree\", DecisionTreeClassifier()))\n",
        "models.append((\"KNeighbors\", KNeighborsClassifier()))\n",
        "models.append((\"RandomForest\", RandomForestClassifier()))\n",
        "models.append((\"GaussianNB\", GaussianNB()))\n",
        "# models.append((\"LogisticRegression\", LogisticRegression()))\n",
        "models.append((\"Multi-Layer Perceptron\", MLPClassifier()))\n",
        "\n",
        "classifier_names = [] # モデル名を保存するためのリスト\n",
        "means = [] # 正解率の平均を保存するためのリスト\n",
        "errors = [] # 正解率の標準偏差を保存するためのリスト\n",
        "scores_list = dict()\n",
        "\n",
        "# 個々のモデルで分類する\n",
        "from sklearn.model_selection import cross_val_score\n",
        "import numpy as np\n",
        "\n",
        "for model_name, model in models:\n",
        "    # 5-fold CV による正解率\n",
        "    scores = cross_val_score(model, X, y, scoring='accuracy', cv=5)\n",
        "    # print(scores)\n",
        "\n",
        "    acc_mean = np.mean(scores)\n",
        "    acc_std = np.std(scores)\n",
        "    # print(\"{}: mean={}, std={}\".format(model_name, acc_mean, acc_std))\n",
        "\n",
        "    # 分類結果（正解率）の保存\n",
        "    classifier_names.append(model_name)\n",
        "    means.append(acc_mean)\n",
        "    errors.append(acc_std)\n",
        "    scores_list[model_name] = scores\n",
        "\n",
        "# Wilcoxon signed-rank test による検定\n",
        "from scipy.stats import ttest_ind, ttest_ind_from_stats\n",
        "from scipy.stats import wilcoxon\n",
        "\n",
        "for i in range(len(classifier_names)-1):\n",
        "    for j in range(i+1, len(classifier_names)):\n",
        "        '''\n",
        "        stat, p = ttest_ind(scores_list[classifier_names[i]],\n",
        "                        scores_list[classifier_names[j]], equal_var=False)\n",
        "        '''\n",
        "        # Wilcoxon signed-rank test procedure for comparing two Machine Learning models\n",
        "        '''\n",
        "        https://www.maartengrootendorst.com/blog/validate/\n",
        "        The result will be a p-value. If that value is lower than 0.05,\n",
        "        we can reject the null hypothesis that there are no significant differences between the models.\n",
        "        '''\n",
        "        stat, p = wilcoxon(scores_list[classifier_names[i]],\n",
        "                        scores_list[classifier_names[j]], zero_method='zsplit')\n",
        "        print(\"{} v.s. {} : stat={}, p-value={}\".format(classifier_names[i],\n",
        "                                                           classifier_names[j],\n",
        "                                                           stat, p))\n"
      ],
      "metadata": {
        "colab": {
          "base_uri": "https://localhost:8080/"
        },
        "id": "hCiXPVjiSpTi",
        "outputId": "339b772d-fe6d-40b8-a702-129386ce4672"
      },
      "execution_count": 2,
      "outputs": [
        {
          "output_type": "stream",
          "name": "stderr",
          "text": [
            "/usr/local/lib/python3.7/dist-packages/sklearn/neural_network/_multilayer_perceptron.py:696: ConvergenceWarning: Stochastic Optimizer: Maximum iterations (200) reached and the optimization hasn't converged yet.\n",
            "  ConvergenceWarning,\n"
          ]
        },
        {
          "output_type": "stream",
          "name": "stdout",
          "text": [
            "SVC (kerne:rbf) v.s. SVC (kernel:linear) : stat=0.0, p-value=0.043114446783075355\n",
            "SVC (kerne:rbf) v.s. DecisionTree : stat=0.0, p-value=0.043114446783075355\n",
            "SVC (kerne:rbf) v.s. KNeighbors : stat=3.0, p-value=0.2228009911811345\n",
            "SVC (kerne:rbf) v.s. RandomForest : stat=0.0, p-value=0.04216819709715596\n",
            "SVC (kerne:rbf) v.s. GaussianNB : stat=0.0, p-value=0.04216819709715596\n",
            "SVC (kerne:rbf) v.s. Multi-Layer Perceptron : stat=4.0, p-value=0.34523107177184\n",
            "SVC (kernel:linear) v.s. DecisionTree : stat=0.5, p-value=0.05905822909053671\n",
            "SVC (kernel:linear) v.s. KNeighbors : stat=0.0, p-value=0.043114446783075355\n",
            "SVC (kernel:linear) v.s. RandomForest : stat=7.0, p-value=0.8907458009320663\n",
            "SVC (kernel:linear) v.s. GaussianNB : stat=6.5, p-value=0.7864570351373764\n",
            "SVC (kernel:linear) v.s. Multi-Layer Perceptron : stat=0.0, p-value=0.043114446783075355\n",
            "DecisionTree v.s. KNeighbors : stat=0.0, p-value=0.043114446783075355\n",
            "DecisionTree v.s. RandomForest : stat=0.0, p-value=0.043114446783075355\n",
            "DecisionTree v.s. GaussianNB : stat=0.0, p-value=0.04216819709715596\n",
            "DecisionTree v.s. Multi-Layer Perceptron : stat=2.0, p-value=0.13801073756865956\n",
            "KNeighbors v.s. RandomForest : stat=0.0, p-value=0.043114446783075355\n",
            "KNeighbors v.s. GaussianNB : stat=0.0, p-value=0.043114446783075355\n",
            "KNeighbors v.s. Multi-Layer Perceptron : stat=3.0, p-value=0.22491588401596185\n",
            "RandomForest v.s. GaussianNB : stat=7.0, p-value=0.892250486903652\n",
            "RandomForest v.s. Multi-Layer Perceptron : stat=0.5, p-value=0.05905822909053671\n",
            "GaussianNB v.s. Multi-Layer Perceptron : stat=0.0, p-value=0.043114446783075355\n"
          ]
        },
        {
          "output_type": "stream",
          "name": "stderr",
          "text": [
            "/usr/local/lib/python3.7/dist-packages/sklearn/neural_network/_multilayer_perceptron.py:696: ConvergenceWarning: Stochastic Optimizer: Maximum iterations (200) reached and the optimization hasn't converged yet.\n",
            "  ConvergenceWarning,\n",
            "/usr/local/lib/python3.7/dist-packages/scipy/stats/morestats.py:2879: UserWarning: Sample size too small for normal approximation.\n",
            "  warnings.warn(\"Sample size too small for normal approximation.\")\n"
          ]
        }
      ]
    },
    {
      "cell_type": "markdown",
      "source": [
        "---\n",
        "(メモ) モデルの比較には \"5×2 Procedure With MLxtend\" がよく使われるようだ。\n",
        "\n",
        "https://machinelearningmastery.com/hypothesis-test-for-comparing-machine-learning-algorithms/"
      ],
      "metadata": {
        "id": "0axj3f9ce6Ir"
      }
    },
    {
      "cell_type": "code",
      "source": [
        ""
      ],
      "metadata": {
        "id": "6NbgyiZvMThO"
      },
      "execution_count": null,
      "outputs": []
    }
  ]
}