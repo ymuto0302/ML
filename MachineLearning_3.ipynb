{
  "nbformat": 4,
  "nbformat_minor": 0,
  "metadata": {
    "colab": {
      "name": "MachineLearning_3.ipynb",
      "provenance": [],
      "collapsed_sections": [],
      "authorship_tag": "ABX9TyN1GUX1wK/cxszxHYFkUSeo",
      "include_colab_link": true
    },
    "kernelspec": {
      "name": "python3",
      "display_name": "Python 3"
    },
    "language_info": {
      "name": "python"
    }
  },
  "cells": [
    {
      "cell_type": "markdown",
      "metadata": {
        "id": "view-in-github",
        "colab_type": "text"
      },
      "source": [
        "<a href=\"https://colab.research.google.com/github/ymuto0302/ML/blob/main/MachineLearning_3.ipynb\" target=\"_parent\"><img src=\"https://colab.research.google.com/assets/colab-badge.svg\" alt=\"Open In Colab\"/></a>"
      ]
    },
    {
      "cell_type": "markdown",
      "source": [
        "# sklearn を用いた分類実験：様々な分類器\n",
        "分類問題を解く際，様々なアルゴリズムが存在し，かつメジャーなものは sklearn にて実装されている。\n",
        "\n",
        "その一覧については，以下の \"Supervised learning\" (教師あり学習) の中の \"Classification\" (分類)を見て欲しい。  \n",
        "https://scikit-learn.org/stable/supervised_learning.html\n",
        "\n",
        "以下では，多数のモデルの中でも特に代表的なモデルを紹介する。\n",
        "\n",
        "目的：\n",
        "- モデル定義を行えば，その後の学習・予測は同じ形式で実行できることを知る。\n",
        "- 分類が困難なデータの場合，モデルによって分類性能に差が出ることを知る。"
      ],
      "metadata": {
        "id": "Y-gZaL-Uda4e"
      }
    },
    {
      "cell_type": "markdown",
      "source": [
        "---\n",
        "## 対象：iris データセット\n",
        "iris データセットは３種のアヤメ (iris) を分類する問題である。下記のサイトにおいて，iris データセットの特性が説明されている。\n",
        "\n",
        "https://machinelearninghd.com/iris-dataset-uci-machine-learning-repository-project/\n",
        "\n",
        "- サンプル数：150個 (50個／クラス)\n",
        "- 次元数：4次元\n",
        "- クラス：0〜2 の 3クラス\n",
        "\n",
        "sklearn.datasets.load_iris() のマニュアル：  \n",
        "https://scikit-learn.org/stable/modules/generated/sklearn.datasets.load_iris.html#sklearn.datasets.load_iris"
      ],
      "metadata": {
        "id": "cdvCJUNQZmye"
      }
    },
    {
      "cell_type": "markdown",
      "source": [
        "最初に，データセットを読み込む。"
      ],
      "metadata": {
        "id": "waGGkTXFhr-p"
      }
    },
    {
      "cell_type": "code",
      "execution_count": null,
      "metadata": {
        "id": "5pPEkB90DYBL"
      },
      "outputs": [],
      "source": [
        "from sklearn.model_selection import train_test_split\n",
        "\n",
        "# iris データセットの読み込み\n",
        "from sklearn.datasets import load_iris\n",
        "iris = load_iris()\n",
        "\n",
        "# 学習:テスト=7:3 の比率に分割\n",
        "X_train, X_test, y_train, y_test = train_test_split(iris.data, iris.target, test_size=0.3)"
      ]
    },
    {
      "cell_type": "markdown",
      "source": [
        "---\n",
        "## 代表的なモデル(分類器)\n",
        "- SVC (kernel: linear, poly, rbf) (サポートベクターマシン)\n",
        "- Decision Tree (決定木)\n",
        "- k-Nearest Neightbor (k-近傍法)\n",
        "- Random Forest (ランダム・フォレスト）\n",
        "- Naive Bayes classifier (ナイーブベイズ）\n",
        "- Logistic Regression (ロジステック回帰)・・・regression (回帰）とあるが分類器 (\n",
        "- Neural Network (Multi Layer Percptron = MLP) (ニューラルネットワーク／多層パーセプトロン)\n",
        "\n",
        "以下では，個々のモデル(分類器)を個別に試してみる。"
      ],
      "metadata": {
        "id": "SLikq12sHt1s"
      }
    },
    {
      "cell_type": "code",
      "source": [
        "# Support Vector Classification (kernel: rbf)\n",
        "from sklearn.svm import SVC\n",
        "from sklearn.metrics import accuracy_score\n",
        "\n",
        "# モデルの学習と評価\n",
        "model = SVC(kernel='rbf') # モデルの定義\n",
        "model.fit(X_train, y_train) # モデルの学習\n",
        "pred = model.predict(X_test) # モデルの評価（分類）\n",
        "\n",
        "# 正解率\n",
        "accuracy_score(y_test, pred)"
      ],
      "metadata": {
        "colab": {
          "base_uri": "https://localhost:8080/"
        },
        "id": "fFDA6uNKukVA",
        "outputId": "39dff9e5-84e6-48d6-a520-6f5832da0d0b"
      },
      "execution_count": null,
      "outputs": [
        {
          "output_type": "execute_result",
          "data": {
            "text/plain": [
              "0.9888888888888889"
            ]
          },
          "metadata": {},
          "execution_count": 6
        }
      ]
    },
    {
      "cell_type": "code",
      "source": [
        "# Support Vector Classification (kernel: linear)\n",
        "from sklearn.svm import SVC\n",
        "from sklearn.metrics import accuracy_score\n",
        "\n",
        "# モデルの学習と評価\n",
        "model = SVC(kernel='linear') # モデルの定義\n",
        "model.fit(X_train, y_train) # モデルの学習\n",
        "pred = model.predict(X_test) # モデルの評価（分類）\n",
        "\n",
        "# 正解率\n",
        "accuracy_score(y_test, pred)"
      ],
      "metadata": {
        "colab": {
          "base_uri": "https://localhost:8080/"
        },
        "id": "XrNgN37Uu8I3",
        "outputId": "3dedba7f-e079-4cfc-cdd2-1d53ea0d2ac7"
      },
      "execution_count": null,
      "outputs": [
        {
          "output_type": "execute_result",
          "data": {
            "text/plain": [
              "0.9833333333333333"
            ]
          },
          "metadata": {},
          "execution_count": 7
        }
      ]
    },
    {
      "cell_type": "code",
      "source": [
        "# Decision Tree\n",
        "from sklearn.tree import DecisionTreeClassifier\n",
        "from sklearn.metrics import accuracy_score\n",
        "\n",
        "# モデルの学習と評価\n",
        "model = DecisionTreeClassifier() # モデルの定義\n",
        "model.fit(X_train, y_train) # モデルの学習\n",
        "pred = model.predict(X_test) # モデルの評価（分類）\n",
        "\n",
        "# 正解率\n",
        "accuracy_score(y_test, pred)"
      ],
      "metadata": {
        "colab": {
          "base_uri": "https://localhost:8080/"
        },
        "id": "RtzLKd6Ru8Gw",
        "outputId": "1dba7395-cd81-44cb-80b6-6cdbc67a78ae"
      },
      "execution_count": null,
      "outputs": [
        {
          "output_type": "execute_result",
          "data": {
            "text/plain": [
              "0.8574074074074074"
            ]
          },
          "metadata": {},
          "execution_count": 9
        }
      ]
    },
    {
      "cell_type": "code",
      "source": [
        "# k-Nearest Neighbors\n",
        "from sklearn.neighbors import KNeighborsClassifier\n",
        "from sklearn.metrics import accuracy_score\n",
        "\n",
        "# モデルの学習と評価\n",
        "model = KNeighborsClassifier() # モデルの定義\n",
        "model.fit(X_train, y_train) # モデルの学習\n",
        "pred = model.predict(X_test) # モデルの評価（分類）\n",
        "\n",
        "# 正解率\n",
        "accuracy_score(y_test, pred)"
      ],
      "metadata": {
        "colab": {
          "base_uri": "https://localhost:8080/"
        },
        "id": "xfAv1yTIu8Eh",
        "outputId": "a73cd747-b7b8-4e6b-c407-6cb7417479a2"
      },
      "execution_count": null,
      "outputs": [
        {
          "output_type": "execute_result",
          "data": {
            "text/plain": [
              "0.9833333333333333"
            ]
          },
          "metadata": {},
          "execution_count": 12
        }
      ]
    },
    {
      "cell_type": "code",
      "source": [
        "# Random Forest\n",
        "from sklearn.ensemble import RandomForestClassifier\n",
        "from sklearn.metrics import accuracy_score\n",
        "\n",
        "# モデルの学習と評価\n",
        "model = RandomForestClassifier() # モデルの定義\n",
        "model.fit(X_train, y_train) # モデルの学習\n",
        "pred = model.predict(X_test) # モデルの評価（分類）\n",
        "\n",
        "# 正解率\n",
        "accuracy_score(y_test, pred)"
      ],
      "metadata": {
        "colab": {
          "base_uri": "https://localhost:8080/"
        },
        "id": "nEUdE64vu8B5",
        "outputId": "64fd84fa-be5b-44c5-d137-5db5face0058"
      },
      "execution_count": null,
      "outputs": [
        {
          "output_type": "execute_result",
          "data": {
            "text/plain": [
              "0.9666666666666667"
            ]
          },
          "metadata": {},
          "execution_count": 13
        }
      ]
    },
    {
      "cell_type": "code",
      "source": [
        "# Gaussian Naive Bayes\n",
        "from sklearn.naive_bayes import GaussianNB\n",
        "from sklearn.metrics import accuracy_score\n",
        "\n",
        "# モデルの学習と評価\n",
        "model = GaussianNB() # モデルの定義\n",
        "model.fit(X_train, y_train) # モデルの学習\n",
        "pred = model.predict(X_test) # モデルの評価（分類）\n",
        "\n",
        "# 正解率\n",
        "accuracy_score(y_test, pred)"
      ],
      "metadata": {
        "colab": {
          "base_uri": "https://localhost:8080/"
        },
        "id": "HInSrqybv2-Y",
        "outputId": "114fc0ee-1c47-4759-b4f6-9d77d5517fd4"
      },
      "execution_count": null,
      "outputs": [
        {
          "output_type": "execute_result",
          "data": {
            "text/plain": [
              "0.8777777777777778"
            ]
          },
          "metadata": {},
          "execution_count": 14
        }
      ]
    },
    {
      "cell_type": "code",
      "source": [
        "# Logistic Regression\n",
        "from sklearn.linear_model import LogisticRegression\n",
        "from sklearn.metrics import accuracy_score\n",
        "\n",
        "# モデルの学習と評価\n",
        "model = LogisticRegression() # モデルの定義\n",
        "model.fit(X_train, y_train) # モデルの学習\n",
        "pred = model.predict(X_test) # モデルの評価（分類）\n",
        "\n",
        "# 正解率\n",
        "accuracy_score(y_test, pred)"
      ],
      "metadata": {
        "colab": {
          "base_uri": "https://localhost:8080/"
        },
        "id": "lXhYaUqYxtCt",
        "outputId": "5157ab29-dd41-49a3-cc00-7fc084537af7"
      },
      "execution_count": null,
      "outputs": [
        {
          "output_type": "stream",
          "name": "stderr",
          "text": [
            "/usr/local/lib/python3.7/dist-packages/sklearn/linear_model/_logistic.py:818: ConvergenceWarning: lbfgs failed to converge (status=1):\n",
            "STOP: TOTAL NO. of ITERATIONS REACHED LIMIT.\n",
            "\n",
            "Increase the number of iterations (max_iter) or scale the data as shown in:\n",
            "    https://scikit-learn.org/stable/modules/preprocessing.html\n",
            "Please also refer to the documentation for alternative solver options:\n",
            "    https://scikit-learn.org/stable/modules/linear_model.html#logistic-regression\n",
            "  extra_warning_msg=_LOGISTIC_SOLVER_CONVERGENCE_MSG,\n"
          ]
        },
        {
          "output_type": "execute_result",
          "data": {
            "text/plain": [
              "0.9703703703703703"
            ]
          },
          "metadata": {},
          "execution_count": 15
        }
      ]
    },
    {
      "cell_type": "code",
      "source": [
        "# Neural Nwtwork (Multi-Layer Perceptron)\n",
        "from sklearn.neural_network import MLPClassifier\n",
        "from sklearn.metrics import accuracy_score\n",
        "\n",
        "# モデルの学習と評価\n",
        "model = MLPClassifier() # モデルの定義\n",
        "model.fit(X_train, y_train) # モデルの学習\n",
        "pred = model.predict(X_test) # モデルの評価（分類）\n",
        "\n",
        "# 正解率\n",
        "accuracy_score(y_test, pred)"
      ],
      "metadata": {
        "colab": {
          "base_uri": "https://localhost:8080/"
        },
        "id": "lIv9qYoQIrzr",
        "outputId": "daf18bff-f3ef-4439-a54a-acba0d90db8c"
      },
      "execution_count": null,
      "outputs": [
        {
          "output_type": "execute_result",
          "data": {
            "text/plain": [
              "0.975925925925926"
            ]
          },
          "metadata": {},
          "execution_count": 2
        }
      ]
    },
    {
      "cell_type": "markdown",
      "source": [
        "---\n",
        "## 複数のモデルで一斉に評価を行うためのコード\n",
        "上記では，個々のモデル(分類器)を個別に動作させた。\n",
        "\n",
        "以下では，iris データセットに対して全てのモデルによる分類実験を行い，その結果を可視化するコードを示す。"
      ],
      "metadata": {
        "id": "N4PZxVDowEgc"
      }
    },
    {
      "cell_type": "code",
      "source": [
        "'''\n",
        "iris dataset に対する分類性能の比較\n",
        "'''\n",
        "from sklearn.svm import SVC\n",
        "from sklearn.tree import DecisionTreeClassifier\n",
        "from sklearn.neighbors import KNeighborsClassifier\n",
        "from sklearn.ensemble import RandomForestClassifier\n",
        "from sklearn.naive_bayes import GaussianNB\n",
        "from sklearn.linear_model import LogisticRegression\n",
        "from sklearn.neural_network import MLPClassifier\n",
        "from sklearn.model_selection import train_test_split\n",
        "\n",
        "# iris データセットの読み込み\n",
        "from sklearn.datasets import load_iris\n",
        "dataset = load_iris()\n",
        "\n",
        "# 学習:テスト=7:3 の比率に分割\n",
        "X_train, X_test, y_train, y_test = train_test_split(dataset.data, dataset.target, test_size=0.3)\n",
        "\n",
        "# モデルのリスト化\n",
        "# リスト生成にあたり，(モデル名, モデルのコンストラクタ) というタプル形式で与えている。\n",
        "# → 実行結果を評価する際，楽になるように。\n",
        "models = []\n",
        "models.append((\"SVC (kerne:rbf)\", SVC(kernel='rbf')))\n",
        "models.append((\"SVC (kernel:linear)\", SVC(kernel='linear')))\n",
        "models.append((\"DecisionTree\", DecisionTreeClassifier()))\n",
        "models.append((\"KNeighbors\", KNeighborsClassifier()))\n",
        "models.append((\"RandomForest\", RandomForestClassifier()))\n",
        "models.append((\"GaussianNB\", GaussianNB()))\n",
        "models.append((\"LogisticRegression\", LogisticRegression()))\n",
        "models.append((\"Multi-Layer Perceptron\", MLPClassifier()))\n",
        "\n",
        "classifier_names = [] # モデル名を保存するためのリスト\n",
        "accuracies = [] # 正解率を保存するためのリスト\n",
        "\n",
        "# 個々のモデルで分類する\n",
        "from sklearn.metrics import accuracy_score\n",
        "for model_name, model in models:\n",
        "    # モデルの学習と評価\n",
        "    model.fit(X_train, y_train) # モデルの学習\n",
        "    pred = model.predict(X_test) # モデルの評価（分類）\n",
        "\n",
        "    # 正解率\n",
        "    acc = accuracy_score(y_test, pred)\n",
        "    \n",
        "    print(\"{}: {}\".format(model_name, acc))\n",
        "\n",
        "    # 分類結果（正解率）の保存\n",
        "    classifier_names.append(model_name)\n",
        "    accuracies.append(acc)\n",
        "\n",
        "# 可視化\n",
        "import matplotlib.pyplot as plt\n",
        "plt.barh(classifier_names, accuracies) # 横向き棒グラフ (horizontal bar char)\n",
        "plt.gca().invert_yaxis() # y軸を逆向きにする\n",
        "plt.show()"
      ],
      "metadata": {
        "colab": {
          "base_uri": "https://localhost:8080/",
          "height": 455
        },
        "id": "McNJdYJlv27y",
        "outputId": "0939c90c-7dbd-45d3-f769-00900b03dba2"
      },
      "execution_count": null,
      "outputs": [
        {
          "output_type": "stream",
          "name": "stdout",
          "text": [
            "SVC (kerne:rbf): 0.9555555555555556\n",
            "SVC (kernel:linear): 0.9555555555555556\n",
            "DecisionTree: 0.9111111111111111\n",
            "KNeighbors: 0.9333333333333333\n",
            "RndomForest: 0.9555555555555556\n",
            "GaussianNB: 0.9333333333333333\n",
            "LogisticRegression: 0.9555555555555556\n",
            "Multi-Layer Perceptron: 0.9111111111111111\n"
          ]
        },
        {
          "output_type": "stream",
          "name": "stderr",
          "text": [
            "/usr/local/lib/python3.7/dist-packages/sklearn/neural_network/_multilayer_perceptron.py:696: ConvergenceWarning: Stochastic Optimizer: Maximum iterations (200) reached and the optimization hasn't converged yet.\n",
            "  ConvergenceWarning,\n"
          ]
        },
        {
          "output_type": "display_data",
          "data": {
            "text/plain": [
              "<Figure size 432x288 with 1 Axes>"
            ],
            "image/png": "[encoded data removed]"
          },
          "metadata": {
            "needs_background": "light"
          }
        }
      ]
    },
    {
      "cell_type": "markdown",
      "source": [
        "---\n",
        "# wine dataset / digits dataset を用いた分類実験\n",
        "次の wine dataset / digits dataset を対象に分類実験をやってみよう。\n",
        "\n",
        "## wine dataset\n",
        "sklearn.datasets.load_wine()\n",
        "- サンプル数：178個\n",
        "- 次元数：13次元\n",
        "- クラス：0〜2 の 3クラス\n",
        "\n",
        "## digits dataset\n",
        "sklearn.datasets.load_digits()\n",
        "- サンプル数：1797個\n",
        "- 次元数：64次元\n",
        "- クラス：0〜9 の 10クラス\n",
        "\n",
        "(参考)\n",
        "- sklearn.datasets.load_wine() のマニュアル：   \n",
        "https://scikit-learn.org/stable/modules/generated/sklearn.datasets.load_wine.html#sklearn.datasets.load_wine\n",
        "- sklearn.datasets.load_digits() のマニュアル：   \n",
        "https://scikit-learn.org/stable/modules/generated/sklearn.datasets.load_digits.html#sklearn.datasets.load_digits\n"
      ],
      "metadata": {
        "id": "x3BwJWhvGKgq"
      }
    }
  ]
}